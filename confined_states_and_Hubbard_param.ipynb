{
 "cells": [
  {
   "cell_type": "markdown",
   "id": "c89729da-24a6-4a8a-811c-44c84316edd4",
   "metadata": {},
   "source": [
    "# CONFINED STATES AND HUBBAR MODEL PARAMETERS FOR BILAYER GRAPHENE IN A CIRCULAR POTENTIAL WELL.\n",
    "Here, we obtain the confined states for a circular potential well in bilayer graphene. For simplicity, we set the potential energy to 0 and only take into account this \"step-like\" shape in the interlayer assymetry. The gap opened by this in bilayer graphene allows confined states with discrete energy levels, ie.e., quantum dots."
   ]
  },
  {
   "cell_type": "code",
   "execution_count": 1,
   "id": "46d6a565-2a74-4a94-a774-0750f5f92b30",
   "metadata": {},
   "outputs": [],
   "source": [
    "import numpy as np\n",
    "from matplotlib import pyplot as plt\n",
    "import matplotlib as mpl\n",
    "from Bilayer_2Bands import Bilayer_2Bands\n",
    "from scipy.special import ellipk"
   ]
  },
  {
   "cell_type": "markdown",
   "id": "7f8f3245-a1d2-4a77-8f42-40ba04d58650",
   "metadata": {},
   "source": [
    "We will create a potential. In this example, this potential will be defined as:\n",
    "\n",
    "$\\Delta(\\rho)$ = 25mV if $\\rho$ > 20 nm, and \n",
    "\n",
    "$\\Delta(\\rho)$ = 50mV if $\\rho$ < 20nm.\n",
    "\n",
    "Then we will see which energetic states lie in the gap.\n",
    "\n",
    "We now define the funtion that gives the interlayes assymetry as a function of $\\rho$."
   ]
  },
  {
   "cell_type": "code",
   "execution_count": 2,
   "id": "4f464c60-bc24-42b0-9435-59d1badbcac5",
   "metadata": {},
   "outputs": [],
   "source": [
    "def step_50_25(rhos):\n",
    "    gap =  np.piecewise(rhos, rhos<20, [0.025, 0.05])\n",
    "    return gap"
   ]
  },
  {
   "cell_type": "markdown",
   "id": "653f7c20-8097-49d5-b54b-0d42d72de3a2",
   "metadata": {},
   "source": [
    "We now proceed to define the different parameters that define our problem. These incluse the physical variable $\\alpha = \\frac{\\hbar}{2 m}$, where $m$ is the effective mass of charge carriers in graphene and has the value of $0.03 m_e$, being $m_e$ the electron mass; the variables corresponding to the potential, which are the average potential V and the interlayer assymetry $\\Delta$ (we can give a constant or a function that depends on $\\rho$); and the variables that are related with the precision of the numerical calculations, that are $r_{max}$ the maximum considered radial variable and $N$, the parts in which we divide the space $\\rho \\in [0, r_{max}]$. Remember that this two variables the higher there are, the better; but also requires more computational time.\n",
    "\n",
    "All the lenght units are given in nm, and the energetic units in eV."
   ]
  },
  {
   "cell_type": "code",
   "execution_count": 3,
   "id": "8c9bcba6-071f-48f3-bfcc-6aa641ee131d",
   "metadata": {},
   "outputs": [],
   "source": [
    "# Physical variable\n",
    "alpha = 1.27  # ℏ^2/(2*m)\n",
    "\n",
    "# Variables for the potential\n",
    "v = 0  # Average potential\n",
    "delta = step_50_25  # Function defining the interlayer assymetry as a function of rho\n",
    "\n",
    "# Variables for the FEM\n",
    "r_max = 250\n",
    "N = 3000\n",
    "# The ones used for the thesis:\n",
    "# r_max = 500\n",
    "# N = 5000"
   ]
  },
  {
   "cell_type": "markdown",
   "id": "17759382-5daf-48db-ab90-e48a1e2f8db5",
   "metadata": {},
   "source": [
    "Now we create the class that contains the especificatins of the problem."
   ]
  },
  {
   "cell_type": "code",
   "execution_count": 4,
   "id": "846f2dc7-c61c-4590-8590-15d2b80ef01f",
   "metadata": {},
   "outputs": [],
   "source": [
    "blg = Bilayer_2Bands(alpha, v, delta, r_max, N)"
   ]
  },
  {
   "cell_type": "markdown",
   "id": "16e4ab6e-b67c-479a-aa7c-3efddc1f1cf1",
   "metadata": {},
   "source": [
    "We now proceed to solve the eigenvalue/eigenvector equations. For that, we define the quantum numbers for the angular momentum $\\ell$ for which we want to solve this problem. We also define the number of eigenvalues we want to obtain (same for all the $\\ell$s). The results are then stored in the filename.hdf5 file. This contains all the solutions related to our problem. Then, only with that file, we can obtain all the information we want about the energies and wave functions."
   ]
  },
  {
   "cell_type": "code",
   "execution_count": 5,
   "id": "9601a39e-77e4-48e6-8945-cda690d540db",
   "metadata": {},
   "outputs": [],
   "source": [
    "ls = [-2, -1, 0, 1, 2]  # The different ℓ\n",
    "k = 2 # We want 2 eigenvalues for each ℓ"
   ]
  },
  {
   "cell_type": "code",
   "execution_count": 6,
   "id": "250320b5-7840-46b3-a1cd-7f2e98591d5d",
   "metadata": {},
   "outputs": [],
   "source": [
    "path = 'datafiles/'\n",
    "filename = f'{path}_data_r{r_max}_N{N}'\n",
    "blg.set_filename(filename)  # If you have already created the file with the solution of the problem, \n",
    "                              # uncomment this line and comment the next one\n",
    "#blg.save(filename, ls, k)"
   ]
  },
  {
   "cell_type": "markdown",
   "id": "8fd2f3ab-46ef-4792-ba3a-a8126defbdb0",
   "metadata": {
    "tags": []
   },
   "source": [
    "We see the obtained gap and the states inside it. Then, plot those the obtained wavefunctions and energies."
   ]
  },
  {
   "cell_type": "code",
   "execution_count": 7,
   "id": "a4bf02b9-f457-4ba7-a618-5d18ed623460",
   "metadata": {},
   "outputs": [
    {
     "name": "stdout",
     "output_type": "stream",
     "text": [
      "[ 0.025 -0.025]\n",
      "l=-2, states inside the gap =1\n",
      "l=-1, states inside the gap =1\n",
      "l=0, states inside the gap =2\n",
      "l=1, states inside the gap =1\n",
      "l=2, states inside the gap =1\n"
     ]
    }
   ],
   "source": [
    "# We print the gap. This is taken by considering that the gap is fixed with the values of v_p and v_m in r_max\n",
    "# To set another gap, just do: blg.set_gap([max_val, min_val])\n",
    "print(blg.gap_size)\n",
    "blg.print_inside_gap()"
   ]
  },
  {
   "cell_type": "code",
   "execution_count": 8,
   "id": "63bc43be-9f06-418e-873f-05a20f381345",
   "metadata": {},
   "outputs": [
    {
     "ename": "TypeError",
     "evalue": "plot() got an unexpected keyword argument 'gap_size'",
     "output_type": "error",
     "traceback": [
      "\u001b[0;31m---------------------------------------------------------------------------\u001b[0m",
      "\u001b[0;31mTypeError\u001b[0m                                 Traceback (most recent call last)",
      "Cell \u001b[0;32mIn [8], line 1\u001b[0m\n\u001b[0;32m----> 1\u001b[0m \u001b[43mblg\u001b[49m\u001b[38;5;241;43m.\u001b[39;49m\u001b[43mplot\u001b[49m\u001b[43m(\u001b[49m\u001b[38;5;124;43m'\u001b[39;49m\u001b[38;5;124;43minside\u001b[39;49m\u001b[38;5;124;43m'\u001b[39;49m\u001b[43m,\u001b[49m\u001b[43m \u001b[49m\u001b[43mrmax\u001b[49m\u001b[38;5;241;43m=\u001b[39;49m\u001b[38;5;241;43m100\u001b[39;49m\u001b[43m,\u001b[49m\u001b[43m \u001b[49m\u001b[43mgap_size\u001b[49m\u001b[38;5;241;43m=\u001b[39;49m\u001b[38;5;241;43m0.05\u001b[39;49m\u001b[38;5;241;43m/\u001b[39;49m\u001b[38;5;241;43m2\u001b[39;49m\u001b[43m)\u001b[49m \u001b[38;5;66;03m# We visuaize the resuts. The keyword inside takes the correct (without numerical errors)\u001b[39;00m\n\u001b[1;32m      2\u001b[0m                              \u001b[38;5;66;03m# values inside the gap.\u001b[39;00m\n",
      "\u001b[0;31mTypeError\u001b[0m: plot() got an unexpected keyword argument 'gap_size'"
     ]
    }
   ],
   "source": [
    "blg.plot('inside', rmax=100) # We visuaize the resuts. The keyword inside takes the correct (without numerical errors)\n",
    "                             # values inside the gap."
   ]
  },
  {
   "cell_type": "markdown",
   "id": "9f2dabf0-0747-41d7-8265-7d573b248bf9",
   "metadata": {},
   "source": [
    "Note that plotting the wavefunctions with the option \"inside\" is very usefull because it plots the wavefunctions specifying the quantum numbers l and n that will be used when identifying each of the states in the next section."
   ]
  },
  {
   "cell_type": "markdown",
   "id": "d60dd8d1-8ffa-43c8-9061-95b99cf4689f",
   "metadata": {},
   "source": [
    "# Hubbard parameters\n",
    "We obtain the Hubbard parameters, starting with the tight binding terms."
   ]
  },
  {
   "cell_type": "markdown",
   "id": "489590c5-5886-479e-8c0e-88adf56490d9",
   "metadata": {
    "tags": []
   },
   "source": [
    "## Coupling betwen sites at $\\mathbf{R}$\n",
    "$$ \\alpha_{\\ell_1, n_1,\\ell_2,  n_2}(\\mathbf{R})= \\int d^2 \\mathbf{r} \\; \\psi_{\\ell_1, n_1}(\\mathbf{r})^\\dagger \\psi_{\\ell_2, n_2}(\\mathbf{r}-\\mathbf{R}) $$ \n",
    "## Tunneling between sites at $\\mathbf{R}$\n",
    "$$ \\gamma_{\\ell_1, n_1,\\ell_2,  n_2}(\\mathbf{R}) = -\\int  d^2 \\mathbf{r} \\; \\psi_{\\ell_1, n_1}(\\mathbf{r}) \\mathbb{V}_{\\text{dot}}(\\mathbf{r-\\mathbf{R}})\\psi_{\\ell_2, n_2}(\\mathbf{r}-\\mathbf{R}) $$ "
   ]
  },
  {
   "cell_type": "markdown",
   "id": "78ec790d-cadc-4450-8ae9-a56f0b8966ae",
   "metadata": {},
   "source": [
    "First, we get all the possible $\\alpha$ and $\\gamma$ for $\\ell=0$ from distances ranging between 0 and 140nm."
   ]
  },
  {
   "cell_type": "code",
   "execution_count": null,
   "id": "7fb19003-1649-4ab2-928c-acbc53e239a5",
   "metadata": {
    "tags": []
   },
   "outputs": [],
   "source": [
    "Rs = np.arange(0, 140, 20)\n",
    "# TFM : Rs = np.arange(0, 200, 5)\n",
    "coup_and_tun_00 = blg.get_coupling_and_tunneling_distance(Rs, 0, 0, 0, 0) #l1, l2, n1, n2\n",
    "coup_and_tun_01 = blg.get_coupling_and_tunneling_distance(Rs, 0, 0, 0, 1)\n",
    "coup_and_tun_10 = blg.get_coupling_and_tunneling_distance(Rs, 0, 0, 1, 0)\n",
    "coup_and_tun_11 = blg.get_coupling_and_tunneling_distance(Rs, 0, 0, 1, 1)\n"
   ]
  },
  {
   "cell_type": "code",
   "execution_count": null,
   "id": "d2fb029f-44fb-4bf9-8c1d-ee06c824ab65",
   "metadata": {},
   "outputs": [],
   "source": [
    "plt.plot(Rs, coup_and_tun_00[:, 0], '-o',  label=r\"$n_1=-1$\"+u\"\\u2192\"+r\"$n_2=-1$\")\n",
    "plt.plot(Rs, coup_and_tun_01[:, 0], '-o', label=r\"$n_1=-1$\"+u\"\\u2192\"+r\"$n_2=1$\") # Its 0\n",
    "plt.plot(Rs, coup_and_tun_10[:, 0], '-o', label=r\"$n_1=1$\"+u\"\\u2192\"+r\"$n_2=-1$\") # Its 0\n",
    "plt.plot(Rs, coup_and_tun_11[:, 0], '-o', label=r\"$n_1=1$\"+u\"\\u2190 \\u2192\"+r\"$n_2=1$\") # Equal to -1 <->-1\n",
    "plt.title(r'Coupling $S(R)$, $\\theta_R=0$')\n",
    "plt.xlabel(r'$R$ (nm)')\n",
    "plt.ylabel(r'$\\alpha$')\n",
    "plt.hlines(0, xmin=Rs[0], xmax=Rs[-1], lw=0.5, ls='--', color='k')\n",
    "plt.legend()\n",
    "plt.show()"
   ]
  },
  {
   "cell_type": "code",
   "execution_count": null,
   "id": "a6aa3fa0-71ec-4680-9c39-4ff789ec8d6a",
   "metadata": {},
   "outputs": [],
   "source": [
    "plt.plot(Rs, coup_and_tun_11[:, 1]*1000, '-o', label=r\"$n_1= 1  \\:$   \"+u\"\\u2192\"+r\"$n_2=1$\")\n",
    "plt.plot(Rs, coup_and_tun_00[:, 1]*1000, '-o', label=r\"$n_1=-1$\"+u\"\\u2192\"+r\"$n_2=-1$\")\n",
    "plt.plot(Rs, coup_and_tun_01[:, 1]*1000, '-o', label=r\"$n_1=-1$\"+u\"\\u2192\"+r\"$n_2=1$\")\n",
    "plt.plot(Rs, coup_and_tun_10[:, 1]*1000, '-o', label=r\"$n_1=1   \\:$\"+u\"\\u2192\"+r\"$n_2=-1$\") # Equal to n -1 -> n 1 \n",
    "\n",
    "plt.title(r'Tunneling $t(R)$, $\\theta_R=0$')\n",
    "plt.xlabel(r'$R$ (nm)')\n",
    "plt.ylabel(r'$\\gamma$ (meV)')\n",
    "plt.hlines(0, xmin=Rs[0], xmax=Rs[-1], lw=0.5, ls='--', color='k')\n",
    "plt.legend()\n",
    "plt.savefig(path+'tunn_all.png')\n",
    "plt.show()"
   ]
  },
  {
   "cell_type": "markdown",
   "id": "ee96e239-1d94-4a90-b995-7b4eca6f44d1",
   "metadata": {},
   "source": [
    "Now, we consider all the confined states but \n",
    "For R=50nm, $\\theta_R$=0 and for the interactions between all the ls and ns. The calculations take long, so this is only put in order to show them."
   ]
  },
  {
   "cell_type": "code",
   "execution_count": null,
   "id": "b25e4b62-7da8-4c25-838c-2621e37fb7bf",
   "metadata": {
    "scrolled": true,
    "tags": []
   },
   "outputs": [],
   "source": [
    "ls = [-2, -1, 0, 1, 2]\n",
    "coup_ls = np.zeros((6, 6))\n",
    "tunn_ls = np.zeros((6, 6))\n",
    "R = [50, 0]\n",
    "i=-1\n",
    "for l1 in ls:\n",
    "    if l1 == 0:\n",
    "        ns1 = [0, 1]\n",
    "    else:\n",
    "        ns1 = [0]\n",
    "    for n1 in ns1:\n",
    "        i=i+1\n",
    "        j=-1\n",
    "        for l2 in ls:\n",
    "            if l2 == 0:\n",
    "                ns2 = [0, 1]\n",
    "            else:\n",
    "                ns2 = [0]\n",
    "            for n2 in ns2:\n",
    "                j=j+1\n",
    "                coup_nl, tunn_nl = blg.get_coupling_and_tunneling(R, l1, l2, n1, n2) # this n is the position!\n",
    "                coup_ls[i, j] = coup_nl\n",
    "                tunn_ls[i, j] = tunn_nl\n",
    "                \n",
    "        "
   ]
  },
  {
   "cell_type": "code",
   "execution_count": null,
   "id": "69665ae3-9b15-4ed8-8e39-427fef6c2453",
   "metadata": {},
   "outputs": [],
   "source": [
    "# save them not to repeat the calculations\n",
    "np.savetxt(path+'coupling_ls.txt', coup_ls, fmt = '%.3f')\n",
    "np.savetxt(path+'tunneling_ls.txt', tunn_ls*1000, fmt='%.3f')"
   ]
  },
  {
   "cell_type": "markdown",
   "id": "532fc432-7b35-4025-8710-4243557b1a8a",
   "metadata": {},
   "source": [
    "## Coulomb interaction\n",
    "We continue with the Coulomb interactions.\n",
    "\n",
    "The **on-site** Coulomb interaction reads\n",
    "\\begin{equation}\n",
    "    U_{\\ell_1, n_1, \\ell_2, n_2} = \\frac{1}{2} \\int d^2\\mathbf{r} \\; n_{\\ell_1, n_1}(\\mathbf{r}) V_{\\ell_2, n_2}(\\mathbf{r}),\n",
    "\\end{equation}\n",
    "\n",
    "where $n_{\\ell, n }$ is the electron density and\n",
    "\\begin{equation}\n",
    "    n_{\\ell, n}(\\mathbf{r}) = \\psi^\\dagger(\\mathbf{r})_{\\ell, n}\\psi(\\mathbf{r})_{\\ell, n} \n",
    "    = \\frac{1}{2\\pi} \\left(|u_{\\ell, n}^+(\\rho)|^2 + |u_{\\ell, n}^-(\\rho)|^2 \\right) = n_{\\ell, n}(\\rho)\n",
    "\\end{equation}\n",
    "and $V_{\\ell, n}(\\mathbf{r})$ the Coulomb potential created by $n_{\\ell, n}(\\mathbf{r})$ at $\\mathbf{R}$\n",
    "\n",
    "\\begin{equation}\n",
    "\\begin{split}\n",
    "    V_{\\ell, n}(\\mathbf{R}) = e^2 \\int d\\mathbf{r} \\frac{n_{\\ell, n}(\\mathbf{r})}{|\\mathbf{r}- \\mathbf{R}|} = e^2\n",
    "    \\int_0^\\infty \\rho d\\rho \\; n_{\\ell, n}(\\rho) & \\int_{-\\pi}^\\pi d \\theta  \\frac{1}{\\sqrt{\\rho^2+R^2-2\\rho R\\cos{(\\theta)}}}   \\\\\n",
    "     =  e^2\\int_0^\\infty \\rho d\\rho \\; n_{\\ell,n}(\\rho) &\\frac{4}{\\rho+R} K \\left(\\frac{4 \\rho R}{(\\rho+R)^2} \\right) = V_{\\ell, n}(R)\n",
    "\\end{split}\n",
    "\\end{equation}\n",
    "where $K(m)$ is the elliptic integral of the first kind."
   ]
  },
  {
   "cell_type": "markdown",
   "id": "195a35a7-ba74-4c08-bab3-83aa4b7bbe48",
   "metadata": {},
   "source": [
    "It is easy to see that the electron density, in this case that is symmetric, will only depend on the absolute value of the angular quantum momentun $\\ell$. Thus, we only have to plot $n_0, n_1$ and $n_2$ and their corresponding Coulomb potentials."
   ]
  },
  {
   "cell_type": "code",
   "execution_count": null,
   "id": "1b21d3c9-1b18-4a92-a17b-b1cc087a50bf",
   "metadata": {},
   "outputs": [],
   "source": [
    "# Functions to plot the electron density and the Coulomb potential.\n",
    "def v_unif(R, a): #uniformly charged disk with charge 1/pi/a^2 at point R\n",
    "    rs = np.linspace(0, a, 1000)\n",
    "    return np.trapz(np.nan_to_num(rs*4/(rs+R)*ellipk(4*rs*R/(rs+R)**2), posinf=0, neginf=0), rs)/a**2/np.pi\n",
    "\n",
    "def plot_coulomb_pot_and_den(Rs, v_r_coulomb, rhos, n_r, rmax, ax1, l):\n",
    "    if rmax is None:\n",
    "        iRmax = len(Rs)\n",
    "        irmax = len(rhos)\n",
    "    else:\n",
    "        iRmax = np.argmin(np.abs(Rs-rmax))\n",
    "        irmax = np.argmin(np.abs(rhos-rmax))\n",
    "    cmap1 = mpl.colormaps['winter']\n",
    "    cmap2 = mpl.colormaps['cool']\n",
    "    #fig, ax1 = plt.subplots(figsize=(3, 3))\n",
    "    ax1.set_title(fr'$|\\ell|$={l}')\n",
    "    ax1.set_xlabel(r'$\\rho$ (nm)')\n",
    "    ax1.set_ylabel(r'$n$ ($10^{-2}$nm$^{-2}$)', color = cmap1(0.5))\n",
    "    ax1.plot(rhos[:irmax], n_r[:irmax]*100, color=cmap1(0.5))\n",
    "    ax1.set_ylim(bottom=0, top =0.2)\n",
    "    ax1.vlines(20, ymin=0, ymax=0.2, ls='--', lw=0.5, color='k')\n",
    "    ax2 = ax1.twinx() \n",
    "    ax2.set_ylabel(r'$V$ (eV)', color=cmap2(0.7) ) #, rotation=270, labelpad =12\n",
    "    ax2.plot(Rs[:iRmax], v_r_coulomb[:iRmax], c=cmap2(0.7)) #'springgreen'\n",
    "    ax2.plot(Rs[:iRmax], 1.44/(Rs[:iRmax]), lw=0.5, ls='--', c=cmap2(0.9)) # 1/r\n",
    "    \n",
    "    # uniformly charged disk\n",
    "    Rs_unif = Rs[:iRmax]\n",
    "    a = 20\n",
    "    v_R_unif = np.zeros_like(Rs_unif)\n",
    "    for i, R in enumerate(Rs_unif):\n",
    "        v_R_unif[i] = v_unif(R, a)\n",
    "    ax2.plot(Rs_unif, v_R_unif*1.44, lw=0.5, ls='-.', c=cmap2(0.5)) #uniformly charged disk\n",
    "    ax2.set_ylim(bottom=0, top = 0.18) #, top=plt.ylim()[1]\n",
    "    ax1.set_xlim(rhos[0], rhos[irmax])"
   ]
  },
  {
   "cell_type": "code",
   "execution_count": null,
   "id": "b365ee7e-61d5-4025-bd05-e4bd6028f20f",
   "metadata": {},
   "outputs": [],
   "source": [
    "fig, axes = plt.subplots(1, 3, figsize=(10, 6))\n",
    "for i, ax in enumerate(axes):\n",
    "    Rs, v_r_coulomb, n_r = blg.get_coulomb_pot(l=i, n=0, rmax=150) # we only need l = 0, 1, 2\n",
    "    plot_coulomb_pot_and_den(Rs, v_r_coulomb, blg.rhos, n_r, rmax=150, ax1=ax, l=i)\n",
    "plt.tight_layout()\n",
    "plt.show()"
   ]
  },
  {
   "cell_type": "markdown",
   "id": "71626e96-b156-496d-8287-71b3a0abdbb5",
   "metadata": {},
   "source": [
    "On the other hand, the **off-site** coulimb interaction is:\n",
    "\\begin{equation}\n",
    "    U(\\mathbf{R})_{\\ell_1, n_1, \\ell_2, n_2} = \\frac{1}{2} \\int d^2\\mathbf{r} \\; n_{\\ell_1, n_1}(\\mathbf{r}) V_{\\ell_2, n_2}(\\mathbf{r-R}),\n",
    "\\end{equation}\n",
    "We now proceed to compute it between the charge densities with  ℓ\n",
    " =0, and plot it divided by  𝑈(0)\n",
    " , that we note that corresponds to the on site interaction."
   ]
  },
  {
   "cell_type": "code",
   "execution_count": 9,
   "id": "e1609a46-f0c3-48b8-9d1d-aa447abfc436",
   "metadata": {},
   "outputs": [
    {
     "name": "stderr",
     "output_type": "stream",
     "text": [
      "/mnt/c/users/snavarro/Documents/icfo_ubuntu/supplementary_qdblg/TFM_Module_FEM.py:397: UserWarning: Caution! The plotted dataset datafiles/_data_r250_N3000 does not necesarily correspond with the object\n",
      "  warnings.warn(f'Caution! The plotted dataset {filename} does not necesarily correspond with the object')\n",
      "/mnt/c/users/snavarro/Documents/icfo_ubuntu/supplementary_qdblg/TFM_Module_FEM.py:797: RuntimeWarning: invalid value encountered in divide\n",
      "  coulomb_pot[i] = 1.44*np.trapz(np.nan_to_num(self.rhos*n_r*4/(self.rhos+R)*\n",
      "/mnt/c/users/snavarro/Documents/icfo_ubuntu/supplementary_qdblg/TFM_Module_FEM.py:798: RuntimeWarning: invalid value encountered in divide\n",
      "  ellipk(4*self.rhos*R/(self.rhos+R)**2), posinf=0, neginf=0), self.rhos)\n",
      "/mnt/c/users/snavarro/Documents/icfo_ubuntu/supplementary_qdblg/TFM_Module_FEM.py:797: RuntimeWarning: invalid value encountered in multiply\n",
      "  coulomb_pot[i] = 1.44*np.trapz(np.nan_to_num(self.rhos*n_r*4/(self.rhos+R)*\n"
     ]
    }
   ],
   "source": [
    "Rs_c = np.arange(0, 200, 20)\n",
    "U_R = blg.get_coulomb_interaction(0, 0, 0, 0, Rs_c)"
   ]
  },
  {
   "cell_type": "code",
   "execution_count": 10,
   "id": "5d7fe51c-510f-4c3b-9330-6cc3c1c46335",
   "metadata": {},
   "outputs": [
    {
     "name": "stdout",
     "output_type": "stream",
     "text": [
      "U_0 = 0.035441670892944865\n"
     ]
    },
    {
     "data": {
      "image/png": "[encoded data removed]",
      "text/plain": [
       "<Figure size 640x480 with 1 Axes>"
      ]
     },
     "metadata": {},
     "output_type": "display_data"
    }
   ],
   "source": [
    "print(f'U_0 = {U_R[0]}')\n",
    "cmap3 = mpl.colormaps['cool']\n",
    "plt.plot(Rs_c, U_R/U_R[0], '-o', c=cmap3(0.7)) #\n",
    "plt.ylabel(r'$U/U_0$')\n",
    "plt.xlabel(r'$R$ (nm)')\n",
    "plt.show()"
   ]
  },
  {
   "cell_type": "code",
   "execution_count": null,
   "id": "3a200140-d268-4648-a04f-6a71d426de36",
   "metadata": {},
   "outputs": [],
   "source": []
  }
 ],
 "metadata": {
  "kernelspec": {
   "display_name": "Python 3 (ipykernel)",
   "language": "python",
   "name": "python3"
  },
  "language_info": {
   "codemirror_mode": {
    "name": "ipython",
    "version": 3
   },
   "file_extension": ".py",
   "mimetype": "text/x-python",
   "name": "python",
   "nbconvert_exporter": "python",
   "pygments_lexer": "ipython3",
   "version": "3.8.10"
  }
 },
 "nbformat": 4,
 "nbformat_minor": 5
}
